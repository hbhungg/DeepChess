{
 "cells": [
  {
   "cell_type": "code",
   "execution_count": 1,
   "id": "a1364eaa-0bf3-413b-be1c-5e4ce8af574f",
   "metadata": {},
   "outputs": [
    {
     "name": "stdout",
     "output_type": "stream",
     "text": [
      "1.7.0\n"
     ]
    }
   ],
   "source": [
    "import chess\n",
    "import IPython\n",
    "from IPython.display import display, Image\n",
    "import random"
   ]
  },
  {
   "cell_type": "code",
   "execution_count": 5,
   "id": "2f847317-1a48-49e1-a04f-74bcdf8ad92a",
   "metadata": {},
   "outputs": [
    {
     "name": "stdout",
     "output_type": "stream",
     "text": [
      "Outcome(termination=<Termination.INSUFFICIENT_MATERIAL: 3>, winner=None)\n"
     ]
    }
   ],
   "source": [
    "board = chess.Board()\n",
    "while board.is_game_over() is False:\n",
    "  move = random.choice(list(board.legal_moves))\n",
    "  board.push(move)\n",
    "  display(board)\n",
    "  IPython.display.clear_output(wait=True)\n",
    "print(board.outcome())"
   ]
  },
  {
   "cell_type": "code",
   "execution_count": null,
   "id": "aadfb054-c58c-4ba0-9f70-608ffd3c5adf",
   "metadata": {},
   "outputs": [],
   "source": [
    "def alpha_beta_comparision(board, depth, maximizing_player):\n",
    "  "
   ]
  }
 ],
 "metadata": {
  "kernelspec": {
   "display_name": "Python [conda env:root] *",
   "language": "python",
   "name": "conda-root-py"
  },
  "language_info": {
   "codemirror_mode": {
    "name": "ipython",
    "version": 3
   },
   "file_extension": ".py",
   "mimetype": "text/x-python",
   "name": "python",
   "nbconvert_exporter": "python",
   "pygments_lexer": "ipython3",
   "version": "3.8.5"
  }
 },
 "nbformat": 4,
 "nbformat_minor": 5
}
