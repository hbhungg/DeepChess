{
 "cells": [
  {
   "cell_type": "code",
   "execution_count": 166,
   "id": "eae41a0a-3f28-4b3c-9322-4c833fb15e0f",
   "metadata": {},
   "outputs": [],
   "source": [
    "%reload_ext autoreload\n",
    "%autoreload 2\n",
    "import chess.pgn\n",
    "import numpy as np\n",
    "from chess_dataset import ChessDataset, ChessPairDataset\n",
    "from tqdm import tqdm\n",
    "import matplotlib.pyplot as plt\n",
    "\n",
    "import torch\n",
    "from torch.utils.data import DataLoader\n",
    "import torch.nn as nn\n",
    "import torch.nn.functional as F"
   ]
  },
  {
   "cell_type": "code",
   "execution_count": 167,
   "id": "a6cf9d01-da66-4ca8-8700-4db9a2ef3ee4",
   "metadata": {},
   "outputs": [],
   "source": [
    "chess_pair_dataset = ChessPairDataset(\"dataset/npy/\")\n",
    "train_chess_dataset = ChessDataset(\"dataset/npy/\")\n",
    "test_chess_dataset = ChessDataset(\"dataset/npy/\", train=False)"
   ]
  },
  {
   "cell_type": "code",
   "execution_count": 168,
   "id": "ec053088-e8f0-4822-b649-119b29243d2b",
   "metadata": {},
   "outputs": [],
   "source": [
    "chess_trainloader = DataLoader(train_chess_dataset, batch_size=64, shuffle=True)\n",
    "chess_testloader = DataLoader(test_chess_dataset, batch_size=64, shuffle=False)"
   ]
  },
  {
   "cell_type": "code",
   "execution_count": 307,
   "id": "bbe393f0-754f-4aff-9885-c1fd7cfbe9d3",
   "metadata": {},
   "outputs": [],
   "source": [
    "class Pos2Vec(nn.Module):\n",
    "  def __init__(self):\n",
    "    super(Pos2Vec, self).__init__()\n",
    "    self.en1 = nn.Linear(773, 600)\n",
    "    self.en2 = nn.Linear(600, 400)\n",
    "    self.en3 = nn.Linear(400, 200)\n",
    "    self.en4 = nn.Linear(200, 100)\n",
    "\n",
    "    self.de1 = nn.Linear(600, 773)\n",
    "    self.de2 = nn.Linear(400, 600)\n",
    "    self.de3 = nn.Linear(200, 400)\n",
    "    self.de4 = nn.Linear(100, 200)\n",
    "\n",
    "    self.g1 = nn.Sequential(self.en1, self.de1, nn.Sigmoid())\n",
    "    self.g2 = nn.Sequential(self.en1, nn.ReLU(), self.en2, \n",
    "                            self.de2, nn.ReLU(), self.de1, nn.Sigmoid())\n",
    "    self.g3 = nn.Sequential(self.en1, nn.ReLU(), self.en2, nn.ReLU(), self.en3, \n",
    "                            self.de3, nn.ReLU(), self.de2, nn.ReLU(), self.de1, nn.Sigmoid())\n",
    "    self.g4 = nn.Sequential(self.en1, nn.ReLU(), self.en2, nn.ReLU(), self.en3, nn.ReLU(), self.en4, \n",
    "                            self.de4, nn.ReLU(), self.de3, nn.ReLU(), self.de2, nn.ReLU(), self.de1, nn.Sigmoid())\n",
    "    \n",
    "  def forward(self, x):\n",
    "    return self.curr(x)\n",
    "  \n",
    "  def train_all(self, train_data, epochs=10):\n",
    "    # 773 - 600 -773\n",
    "    self.curr = self.g1\n",
    "    self.train(train_data, epochs)\n",
    "    \n",
    "    # * means freeze the layer\n",
    "    # 773 -* 600 - 400 - 600 -* 773\n",
    "    AutoEncoder.freeze(self.en1)\n",
    "    AutoEncoder.freeze(self.de1)\n",
    "    self.curr = self.g2\n",
    "    self.train(train_data, epochs)\n",
    "    \n",
    "    # 773 -* 600 -* 400 - 200 - 400 -* 600 -* 773\n",
    "    AutoEncoder.freeze(self.en2)\n",
    "    AutoEncoder.freeze(self.de2)\n",
    "    self.curr = self.g3\n",
    "    self.train(train_data, epochs)\n",
    "    \n",
    "    # 773 -* 600 -* 400 -* 200 - 100 - 200 -* 400 -* 600 -* 773\n",
    "    AutoEncoder.freeze(self.en3)\n",
    "    AutoEncoder.freeze(self.de3)\n",
    "    self.curr = self.g4\n",
    "    self.train(train_data, epochs)\n",
    "    \n",
    "  def train(self, train_data, epochs=10):\n",
    "    loss_f = nn.MSELoss()\n",
    "    optim = torch.optim.Adam(self.parameters(), lr=0.005)\n",
    "    for epoch in range(epochs):\n",
    "      for states in (t := tqdm(chess_trainloader)):\n",
    "        states = states.type(torch.float)\n",
    "        reconstructed = self(states)\n",
    "        loss = loss_f(reconstructed, states)\n",
    "\n",
    "        optim.zero_grad()\n",
    "        loss.backward()\n",
    "        optim.step()\n",
    "\n",
    "        t.set_description(\"Epoch: {} | Loss: {}\".format(epoch, loss))\n",
    "        \n",
    "  def build(self):\n",
    "    self.curr = self.g4\n",
    "    \n",
    "  @staticmethod\n",
    "  def freeze(layer):\n",
    "    layer.weight.requires_grad = False\n",
    "    layer.bias.requires_grad = False"
   ]
  },
  {
   "cell_type": "code",
   "execution_count": 296,
   "id": "542adb65-d049-445c-a8aa-1554500728e9",
   "metadata": {},
   "outputs": [],
   "source": [
    "p2v = Pos2Vec()"
   ]
  },
  {
   "cell_type": "code",
   "execution_count": 297,
   "id": "43dca97d-7c88-466a-aef7-3b62807b2ed6",
   "metadata": {},
   "outputs": [
    {
     "name": "stderr",
     "output_type": "stream",
     "text": [
      "Epoch: 0 | Loss: 0.024175286293029785: 100%|████████████████████████████████████████████████████| 12/12 [00:00<00:00, 36.06it/s]\n",
      "Epoch: 1 | Loss: 0.02206273190677166: 100%|█████████████████████████████████████████████████████| 12/12 [00:00<00:00, 35.38it/s]\n",
      "Epoch: 2 | Loss: 0.02060483768582344: 100%|█████████████████████████████████████████████████████| 12/12 [00:00<00:00, 34.07it/s]\n",
      "Epoch: 3 | Loss: 0.01942518725991249: 100%|█████████████████████████████████████████████████████| 12/12 [00:00<00:00, 24.82it/s]\n",
      "Epoch: 4 | Loss: 0.020248031243681908: 100%|████████████████████████████████████████████████████| 12/12 [00:00<00:00, 23.66it/s]\n",
      "Epoch: 5 | Loss: 0.018199291080236435: 100%|████████████████████████████████████████████████████| 12/12 [00:00<00:00, 24.98it/s]\n",
      "Epoch: 6 | Loss: 0.01832696422934532: 100%|█████████████████████████████████████████████████████| 12/12 [00:00<00:00, 25.50it/s]\n",
      "Epoch: 7 | Loss: 0.017923761159181595: 100%|████████████████████████████████████████████████████| 12/12 [00:00<00:00, 25.11it/s]\n",
      "Epoch: 8 | Loss: 0.018771875649690628: 100%|████████████████████████████████████████████████████| 12/12 [00:00<00:00, 25.29it/s]\n",
      "Epoch: 9 | Loss: 0.017196636646986008: 100%|████████████████████████████████████████████████████| 12/12 [00:00<00:00, 25.02it/s]\n",
      "Epoch: 0 | Loss: 0.025507621467113495: 100%|████████████████████████████████████████████████████| 12/12 [00:00<00:00, 23.84it/s]\n",
      "Epoch: 1 | Loss: 0.029585465788841248: 100%|████████████████████████████████████████████████████| 12/12 [00:00<00:00, 28.07it/s]\n",
      "Epoch: 2 | Loss: 0.026491928845643997: 100%|████████████████████████████████████████████████████| 12/12 [00:00<00:00, 29.17it/s]\n",
      "Epoch: 3 | Loss: 0.02480454556643963: 100%|█████████████████████████████████████████████████████| 12/12 [00:00<00:00, 32.65it/s]\n",
      "Epoch: 4 | Loss: 0.02559198997914791: 100%|█████████████████████████████████████████████████████| 12/12 [00:00<00:00, 31.48it/s]\n",
      "Epoch: 5 | Loss: 0.02455143630504608: 100%|█████████████████████████████████████████████████████| 12/12 [00:00<00:00, 31.79it/s]\n",
      "Epoch: 6 | Loss: 0.027616847306489944: 100%|████████████████████████████████████████████████████| 12/12 [00:00<00:00, 29.36it/s]\n",
      "Epoch: 7 | Loss: 0.029191743582487106: 100%|████████████████████████████████████████████████████| 12/12 [00:00<00:00, 29.68it/s]\n",
      "Epoch: 8 | Loss: 0.02536700665950775: 100%|█████████████████████████████████████████████████████| 12/12 [00:00<00:00, 29.17it/s]\n",
      "Epoch: 9 | Loss: 0.02626694366335869: 100%|█████████████████████████████████████████████████████| 12/12 [00:00<00:00, 28.29it/s]\n",
      "Epoch: 0 | Loss: 0.025282636284828186: 100%|████████████████████████████████████████████████████| 12/12 [00:00<00:00, 22.66it/s]\n",
      "Epoch: 1 | Loss: 0.02708251215517521: 100%|█████████████████████████████████████████████████████| 12/12 [00:00<00:00, 22.97it/s]\n",
      "Epoch: 2 | Loss: 0.025929467752575874: 100%|████████████████████████████████████████████████████| 12/12 [00:00<00:00, 25.59it/s]\n",
      "Epoch: 3 | Loss: 0.027841836214065552: 100%|████████████████████████████████████████████████████| 12/12 [00:00<00:00, 25.40it/s]\n",
      "Epoch: 4 | Loss: 0.025873221457004547: 100%|████████████████████████████████████████████████████| 12/12 [00:00<00:00, 23.75it/s]\n",
      "Epoch: 5 | Loss: 0.02682940475642681: 100%|█████████████████████████████████████████████████████| 12/12 [00:00<00:00, 25.36it/s]\n",
      "Epoch: 6 | Loss: 0.027841836214065552: 100%|████████████████████████████████████████████████████| 12/12 [00:00<00:00, 24.38it/s]\n",
      "Epoch: 7 | Loss: 0.02893863618373871: 100%|█████████████████████████████████████████████████████| 12/12 [00:00<00:00, 24.12it/s]\n",
      "Epoch: 8 | Loss: 0.027616851031780243: 100%|████████████████████████████████████████████████████| 12/12 [00:00<00:00, 23.74it/s]\n",
      "Epoch: 9 | Loss: 0.02455143630504608: 100%|█████████████████████████████████████████████████████| 12/12 [00:00<00:00, 25.77it/s]\n",
      "Epoch: 0 | Loss: 0.9739299416542053: 100%|██████████████████████████████████████████████████████| 12/12 [00:00<00:00, 25.31it/s]\n",
      "Epoch: 1 | Loss: 0.9726057052612305: 100%|██████████████████████████████████████████████████████| 12/12 [00:00<00:00, 27.97it/s]\n",
      "Epoch: 2 | Loss: 0.9723550081253052: 100%|██████████████████████████████████████████████████████| 12/12 [00:00<00:00, 28.14it/s]\n",
      "Epoch: 3 | Loss: 0.9701895713806152: 100%|██████████████████████████████████████████████████████| 12/12 [00:00<00:00, 27.51it/s]\n",
      "Epoch: 4 | Loss: 0.9724956154823303: 100%|██████████████████████████████████████████████████████| 12/12 [00:00<00:00, 30.29it/s]\n",
      "Epoch: 5 | Loss: 0.9724112749099731: 100%|██████████████████████████████████████████████████████| 12/12 [00:00<00:00, 26.61it/s]\n",
      "Epoch: 6 | Loss: 0.9727487564086914: 100%|██████████████████████████████████████████████████████| 12/12 [00:00<00:00, 25.29it/s]\n",
      "Epoch: 7 | Loss: 0.9742954969406128: 100%|██████████████████████████████████████████████████████| 12/12 [00:00<00:00, 27.72it/s]\n",
      "Epoch: 8 | Loss: 0.9730581045150757: 100%|██████████████████████████████████████████████████████| 12/12 [00:00<00:00, 25.71it/s]\n",
      "Epoch: 9 | Loss: 0.9740705490112305: 100%|██████████████████████████████████████████████████████| 12/12 [00:00<00:00, 24.17it/s]\n"
     ]
    }
   ],
   "source": [
    "p2v.train_all(train_data=train_chess_dataset)"
   ]
  },
  {
   "cell_type": "code",
   "execution_count": 301,
   "id": "8a4e140d-c6a2-4430-b68a-55794760fa54",
   "metadata": {},
   "outputs": [],
   "source": [
    "torch.save(p2v.state_dict(), \"model/save/pos2vec.pth\")"
   ]
  },
  {
   "cell_type": "code",
   "execution_count": 308,
   "id": "5e369196-05e8-4cb5-b858-d3a893c0b8d2",
   "metadata": {},
   "outputs": [],
   "source": [
    "saved_model = Pos2Vec()\n",
    "ss = torch.load(\"model/save/pos2vec.pth\")"
   ]
  },
  {
   "cell_type": "code",
   "execution_count": 309,
   "id": "78163175-4ae4-48da-8d44-50ec9430f098",
   "metadata": {},
   "outputs": [
    {
     "data": {
      "text/plain": [
       "<All keys matched successfully>"
      ]
     },
     "execution_count": 309,
     "metadata": {},
     "output_type": "execute_result"
    }
   ],
   "source": [
    "saved_model.build()\n",
    "saved_model.load_state_dict(ss)"
   ]
  },
  {
   "cell_type": "code",
   "execution_count": 314,
   "id": "57284be5-758c-40b8-b632-848283d1e7f9",
   "metadata": {},
   "outputs": [
    {
     "data": {
      "text/plain": [
       "tensor([[1., 1., 1.,  ..., 1., 1., 1.],\n",
       "        [1., 1., 1.,  ..., 1., 1., 1.],\n",
       "        [1., 1., 1.,  ..., 1., 1., 1.],\n",
       "        ...,\n",
       "        [1., 1., 1.,  ..., 1., 1., 1.],\n",
       "        [1., 1., 1.,  ..., 1., 1., 1.],\n",
       "        [1., 1., 1.,  ..., 1., 1., 1.]], grad_fn=<SigmoidBackward0>)"
      ]
     },
     "execution_count": 314,
     "metadata": {},
     "output_type": "execute_result"
    }
   ],
   "source": [
    "state = next(iter(chess_trainloader))\n",
    "state = state.type(torch.float)\n",
    "saved_model(state)"
   ]
  },
  {
   "cell_type": "code",
   "execution_count": null,
   "id": "eeb9d487-b096-455b-86b3-ab37155f0d8b",
   "metadata": {},
   "outputs": [],
   "source": []
  }
 ],
 "metadata": {
  "kernelspec": {
   "display_name": "Python [conda env:root] *",
   "language": "python",
   "name": "conda-root-py"
  },
  "language_info": {
   "codemirror_mode": {
    "name": "ipython",
    "version": 3
   },
   "file_extension": ".py",
   "mimetype": "text/x-python",
   "name": "python",
   "nbconvert_exporter": "python",
   "pygments_lexer": "ipython3",
   "version": "3.8.5"
  }
 },
 "nbformat": 4,
 "nbformat_minor": 5
}
