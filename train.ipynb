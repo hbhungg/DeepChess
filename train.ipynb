{
 "cells": [
  {
   "cell_type": "code",
   "execution_count": 1,
   "id": "eae41a0a-3f28-4b3c-9322-4c833fb15e0f",
   "metadata": {
    "tags": []
   },
   "outputs": [],
   "source": [
    "%reload_ext autoreload\n",
    "%autoreload 2\n",
    "import chess.pgn\n",
    "import numpy as np\n",
    "from tqdm import tqdm\n",
    "import matplotlib.pyplot as plt\n",
    "\n",
    "from chess_dataset import ChessDataset, ChessPairDataset\n",
    "import helper\n",
    "\n",
    "import torch\n",
    "from torch.utils.data import DataLoader\n",
    "import torch.nn as nn\n",
    "import torch.nn.functional as F\n",
    "import torchvision"
   ]
  },
  {
   "cell_type": "code",
   "execution_count": 2,
   "id": "a6cf9d01-da66-4ca8-8700-4db9a2ef3ee4",
   "metadata": {},
   "outputs": [],
   "source": [
    "train_chess_pair_dataset = ChessPairDataset(\"dataset/npy/\")\n",
    "test_chess_pair_dataset = ChessPairDataset(\"dataset/npy/\", train=False)\n",
    "train_chess_dataset = ChessDataset(\"dataset/npy/\")\n",
    "test_chess_dataset = ChessDataset(\"dataset/npy/\", train=False)"
   ]
  },
  {
   "cell_type": "code",
   "execution_count": 3,
   "id": "a6a07b43-da18-4eab-9700-3675031bcf88",
   "metadata": {},
   "outputs": [
    {
     "data": {
      "text/plain": [
       "(32000, 8000)"
      ]
     },
     "execution_count": 3,
     "metadata": {},
     "output_type": "execute_result"
    }
   ],
   "source": [
    "len(train_chess_pair_dataset), len(test_chess_pair_dataset)"
   ]
  },
  {
   "cell_type": "code",
   "execution_count": 4,
   "id": "c015d2c2-3c20-449a-90b8-e1e83d051d0a",
   "metadata": {},
   "outputs": [
    {
     "data": {
      "text/plain": [
       "(2739, 686)"
      ]
     },
     "execution_count": 4,
     "metadata": {},
     "output_type": "execute_result"
    }
   ],
   "source": [
    "len(train_chess_dataset), len(test_chess_dataset)"
   ]
  },
  {
   "cell_type": "code",
   "execution_count": 5,
   "id": "ec053088-e8f0-4822-b649-119b29243d2b",
   "metadata": {},
   "outputs": [],
   "source": [
    "chess_trainloader = DataLoader(train_chess_dataset, batch_size=64, shuffle=True)\n",
    "chess_testloader = DataLoader(test_chess_dataset, batch_size=64, shuffle=False)\n",
    "chess_pair_trainloader = DataLoader(train_chess_pair_dataset, batch_size=64, shuffle=True)\n",
    "chess_pair_testloader = DataLoader(test_chess_pair_dataset, batch_size=64, shuffle=True)"
   ]
  },
  {
   "cell_type": "code",
   "execution_count": 6,
   "id": "bbe393f0-754f-4aff-9885-c1fd7cfbe9d3",
   "metadata": {
    "tags": []
   },
   "outputs": [
    {
     "name": "stderr",
     "output_type": "stream",
     "text": [
      "Epoch: 0 | Loss: 0.19825418293476105: 100%|█████████████████████████████████████| 43/43 [00:01<00:00, 29.68it/s]\n",
      "Val loss: 0.19519387185573578: 100%|████████████████████████████████████████████| 11/11 [00:00<00:00, 37.84it/s]\n",
      "Epoch: 1 | Loss: 0.08829965442419052: 100%|█████████████████████████████████████| 43/43 [00:01<00:00, 29.75it/s]\n",
      "Val loss: 0.08668049424886703: 100%|████████████████████████████████████████████| 11/11 [00:00<00:00, 38.35it/s]\n",
      "Epoch: 2 | Loss: 0.04529280960559845: 100%|█████████████████████████████████████| 43/43 [00:01<00:00, 28.97it/s]\n",
      "Val loss: 0.04661478474736214: 100%|████████████████████████████████████████████| 11/11 [00:00<00:00, 41.13it/s]\n",
      "Epoch: 3 | Loss: 0.04260724410414696: 100%|█████████████████████████████████████| 43/43 [00:01<00:00, 30.62it/s]\n",
      "Val loss: 0.035814229398965836: 100%|███████████████████████████████████████████| 11/11 [00:00<00:00, 32.31it/s]\n",
      "Epoch: 4 | Loss: 0.03489038348197937: 100%|█████████████████████████████████████| 43/43 [00:01<00:00, 30.06it/s]\n",
      "Val loss: 0.03115270473062992: 100%|████████████████████████████████████████████| 11/11 [00:00<00:00, 38.75it/s]\n",
      "Epoch: 5 | Loss: 0.036114420741796494: 100%|████████████████████████████████████| 43/43 [00:01<00:00, 30.90it/s]\n",
      "Val loss: 0.02857055328786373: 100%|████████████████████████████████████████████| 11/11 [00:00<00:00, 37.38it/s]\n",
      "Epoch: 6 | Loss: 0.029034830629825592: 100%|████████████████████████████████████| 43/43 [00:01<00:00, 29.06it/s]\n",
      "Val loss: 0.026869235560297966: 100%|███████████████████████████████████████████| 11/11 [00:00<00:00, 33.04it/s]\n",
      "Epoch: 7 | Loss: 0.027071375399827957: 100%|████████████████████████████████████| 43/43 [00:01<00:00, 30.35it/s]\n",
      "Val loss: 0.025682147592306137: 100%|███████████████████████████████████████████| 11/11 [00:00<00:00, 42.03it/s]\n",
      "Epoch: 8 | Loss: 0.025120286270976067: 100%|████████████████████████████████████| 43/43 [00:01<00:00, 30.36it/s]\n",
      "Val loss: 0.024694612249732018: 100%|███████████████████████████████████████████| 11/11 [00:00<00:00, 38.67it/s]\n",
      "Epoch: 9 | Loss: 0.02491120807826519: 100%|█████████████████████████████████████| 43/43 [00:01<00:00, 30.10it/s]\n",
      "Val loss: 0.02385665476322174: 100%|████████████████████████████████████████████| 11/11 [00:00<00:00, 37.55it/s]\n",
      "Epoch: 0 | Loss: 0.024704499170184135: 100%|████████████████████████████████████| 43/43 [00:01<00:00, 26.16it/s]\n",
      "Val loss: 0.024797514081001282: 100%|███████████████████████████████████████████| 11/11 [00:00<00:00, 38.41it/s]\n",
      "Epoch: 1 | Loss: 0.024566514417529106: 100%|████████████████████████████████████| 43/43 [00:01<00:00, 25.88it/s]\n",
      "Val loss: 0.02388250082731247: 100%|████████████████████████████████████████████| 11/11 [00:00<00:00, 38.28it/s]\n",
      "Epoch: 2 | Loss: 0.023818664252758026: 100%|████████████████████████████████████| 43/43 [00:01<00:00, 24.94it/s]\n",
      "Val loss: 0.023555470630526543: 100%|███████████████████████████████████████████| 11/11 [00:00<00:00, 36.51it/s]\n",
      "Epoch: 3 | Loss: 0.02381708472967148: 100%|█████████████████████████████████████| 43/43 [00:01<00:00, 24.54it/s]\n",
      "Val loss: 0.022948091849684715: 100%|███████████████████████████████████████████| 11/11 [00:00<00:00, 34.57it/s]\n",
      "Epoch: 4 | Loss: 0.022379187867045403: 100%|████████████████████████████████████| 43/43 [00:01<00:00, 24.97it/s]\n",
      "Val loss: 0.02228332683444023: 100%|████████████████████████████████████████████| 11/11 [00:00<00:00, 32.68it/s]\n",
      "Epoch: 5 | Loss: 0.021745815873146057: 100%|████████████████████████████████████| 43/43 [00:01<00:00, 24.33it/s]\n",
      "Val loss: 0.02182847075164318: 100%|████████████████████████████████████████████| 11/11 [00:00<00:00, 37.28it/s]\n",
      "Epoch: 6 | Loss: 0.021875524893403053: 100%|████████████████████████████████████| 43/43 [00:01<00:00, 23.94it/s]\n",
      "Val loss: 0.021540749818086624: 100%|███████████████████████████████████████████| 11/11 [00:00<00:00, 34.33it/s]\n",
      "Epoch: 7 | Loss: 0.01968071050941944: 100%|█████████████████████████████████████| 43/43 [00:01<00:00, 23.57it/s]\n",
      "Val loss: 0.0213570985943079: 100%|█████████████████████████████████████████████| 11/11 [00:00<00:00, 34.70it/s]\n",
      "Epoch: 8 | Loss: 0.01998375914990902: 100%|█████████████████████████████████████| 43/43 [00:01<00:00, 24.64it/s]\n",
      "Val loss: 0.021196948364377022: 100%|███████████████████████████████████████████| 11/11 [00:00<00:00, 34.07it/s]\n",
      "Epoch: 9 | Loss: 0.021007366478443146: 100%|████████████████████████████████████| 43/43 [00:01<00:00, 24.02it/s]\n",
      "Val loss: 0.021059583872556686: 100%|███████████████████████████████████████████| 11/11 [00:00<00:00, 34.89it/s]\n",
      "Epoch: 0 | Loss: 0.026526646688580513: 100%|████████████████████████████████████| 43/43 [00:01<00:00, 22.94it/s]\n",
      "Val loss: 0.026027685031294823: 100%|███████████████████████████████████████████| 11/11 [00:00<00:00, 34.90it/s]\n",
      "Epoch: 1 | Loss: 0.027106205001473427: 100%|████████████████████████████████████| 43/43 [00:01<00:00, 22.14it/s]\n",
      "Val loss: 0.024872083216905594: 100%|███████████████████████████████████████████| 11/11 [00:00<00:00, 34.82it/s]\n",
      "Epoch: 2 | Loss: 0.023580508306622505: 100%|████████████████████████████████████| 43/43 [00:01<00:00, 23.48it/s]\n",
      "Val loss: 0.02402263879776001: 100%|████████████████████████████████████████████| 11/11 [00:00<00:00, 32.08it/s]\n",
      "Epoch: 3 | Loss: 0.024117372930049896: 100%|████████████████████████████████████| 43/43 [00:01<00:00, 22.30it/s]\n",
      "Val loss: 0.023460106924176216: 100%|███████████████████████████████████████████| 11/11 [00:00<00:00, 30.15it/s]\n",
      "Epoch: 4 | Loss: 0.023578880354762077: 100%|████████████████████████████████████| 43/43 [00:01<00:00, 23.03it/s]\n",
      "Val loss: 0.02323891781270504: 100%|████████████████████████████████████████████| 11/11 [00:00<00:00, 34.63it/s]\n",
      "Epoch: 5 | Loss: 0.02406894415616989: 100%|█████████████████████████████████████| 43/43 [00:01<00:00, 22.46it/s]\n",
      "Val loss: 0.023014627397060394: 100%|███████████████████████████████████████████| 11/11 [00:00<00:00, 33.90it/s]\n",
      "Epoch: 6 | Loss: 0.02319958619773388: 100%|█████████████████████████████████████| 43/43 [00:01<00:00, 23.24it/s]\n",
      "Val loss: 0.022763248533010483: 100%|███████████████████████████████████████████| 11/11 [00:00<00:00, 34.19it/s]\n",
      "Epoch: 7 | Loss: 0.023443814367055893: 100%|████████████████████████████████████| 43/43 [00:01<00:00, 23.19it/s]\n",
      "Val loss: 0.022501956671476364: 100%|███████████████████████████████████████████| 11/11 [00:00<00:00, 34.86it/s]\n",
      "Epoch: 8 | Loss: 0.02311374433338642: 100%|█████████████████████████████████████| 43/43 [00:01<00:00, 23.12it/s]\n",
      "Val loss: 0.02224133163690567: 100%|████████████████████████████████████████████| 11/11 [00:00<00:00, 33.29it/s]\n",
      "Epoch: 9 | Loss: 0.022077089175581932: 100%|████████████████████████████████████| 43/43 [00:01<00:00, 22.79it/s]\n",
      "Val loss: 0.02199026383459568: 100%|████████████████████████████████████████████| 11/11 [00:00<00:00, 32.27it/s]\n",
      "Epoch: 0 | Loss: 0.03782668709754944: 100%|█████████████████████████████████████| 43/43 [00:02<00:00, 20.32it/s]\n",
      "Val loss: 0.03956250473856926: 100%|████████████████████████████████████████████| 11/11 [00:00<00:00, 32.11it/s]\n",
      "Epoch: 1 | Loss: 0.028742503374814987: 100%|████████████████████████████████████| 43/43 [00:02<00:00, 21.01it/s]\n",
      "Val loss: 0.02765960805118084: 100%|████████████████████████████████████████████| 11/11 [00:00<00:00, 34.45it/s]\n",
      "Epoch: 2 | Loss: 0.025769175961613655: 100%|████████████████████████████████████| 43/43 [00:01<00:00, 22.37it/s]\n",
      "Val loss: 0.02566765621304512: 100%|████████████████████████████████████████████| 11/11 [00:00<00:00, 30.77it/s]\n",
      "Epoch: 3 | Loss: 0.026697006076574326: 100%|████████████████████████████████████| 43/43 [00:01<00:00, 22.05it/s]\n",
      "Val loss: 0.025002043694257736: 100%|███████████████████████████████████████████| 11/11 [00:00<00:00, 34.72it/s]\n",
      "Epoch: 4 | Loss: 0.026568355038762093: 100%|████████████████████████████████████| 43/43 [00:01<00:00, 22.03it/s]\n",
      "Val loss: 0.02465246245265007: 100%|████████████████████████████████████████████| 11/11 [00:00<00:00, 33.46it/s]\n",
      "Epoch: 5 | Loss: 0.025508811697363853: 100%|████████████████████████████████████| 43/43 [00:01<00:00, 22.86it/s]\n",
      "Val loss: 0.02441105619072914: 100%|████████████████████████████████████████████| 11/11 [00:00<00:00, 32.98it/s]\n",
      "Epoch: 6 | Loss: 0.02463522180914879: 100%|█████████████████████████████████████| 43/43 [00:01<00:00, 22.67it/s]\n",
      "Val loss: 0.024213053286075592: 100%|███████████████████████████████████████████| 11/11 [00:00<00:00, 34.35it/s]\n",
      "Epoch: 7 | Loss: 0.025276856496930122: 100%|████████████████████████████████████| 43/43 [00:01<00:00, 21.66it/s]\n",
      "Val loss: 0.024042215198278427: 100%|███████████████████████████████████████████| 11/11 [00:00<00:00, 32.10it/s]\n",
      "Epoch: 8 | Loss: 0.02512090466916561: 100%|█████████████████████████████████████| 43/43 [00:01<00:00, 22.82it/s]\n",
      "Val loss: 0.023896923288702965: 100%|███████████████████████████████████████████| 11/11 [00:00<00:00, 34.29it/s]\n",
      "Epoch: 9 | Loss: 0.025068460032343864: 100%|████████████████████████████████████| 43/43 [00:01<00:00, 22.22it/s]\n",
      "Val loss: 0.02376333251595497: 100%|████████████████████████████████████████████| 11/11 [00:00<00:00, 30.06it/s]\n"
     ]
    }
   ],
   "source": [
    "def freeze(layer):\n",
    "  layer.weight.requires_grad = False\n",
    "  layer.bias.requires_grad = False\n",
    "\n",
    "def unfreeze(layer):\n",
    "  layer.weight.requires_grad = True\n",
    "  layer.bias.requires_grad = True\n",
    "  \n",
    "# Dense encoding layers\n",
    "en1 = nn.Linear(773, 600)\n",
    "en2 = nn.Linear(600, 400)\n",
    "en3 = nn.Linear(400, 200)\n",
    "en4 = nn.Linear(200, 100)\n",
    "\n",
    "# Dense decoding layers\n",
    "de1 = nn.Linear(600, 773)\n",
    "de2 = nn.Linear(400, 600)\n",
    "de3 = nn.Linear(200, 400)\n",
    "de4 = nn.Linear(100, 200)\n",
    "\n",
    "# Autoencoder train\n",
    "# 773 - 600 - 773\n",
    "ae1 = nn.Sequential(en1, nn.ReLU(), \n",
    "                    de1, nn.Sigmoid())\n",
    "helper.train_autoencoder(ae1, chess_trainloader, chess_testloader, 10, 2)\n",
    "\n",
    "# * means freeze\n",
    "# 773 *- 600 - 400 - 600 *- 773\n",
    "freeze(en1)\n",
    "freeze(de1)\n",
    "ae2 = nn.Sequential(en1, nn.ReLU(), en2, nn.ReLU(), \n",
    "                    de2, nn.ReLU(), de1, nn.Sigmoid())\n",
    "helper.train_autoencoder(ae2, chess_trainloader, chess_testloader, 10, 2)\n",
    "\n",
    "# 773 *- 600 *- 400 - 200 - 400 *- 600 *- 773\n",
    "freeze(en2)\n",
    "freeze(de2)\n",
    "ae3 = nn.Sequential(en1, nn.ReLU(), en2, nn.ReLU(), en3, nn.ReLU(), \n",
    "                    de3, nn.ReLU(), de2, nn.ReLU(), de1, nn.Sigmoid())\n",
    "helper.train_autoencoder(ae3, chess_trainloader, chess_testloader, 10, 2)\n",
    "\n",
    "# 773 *- 600 *- 400 *- 200 - 100 - 200 *- 400 *- 600 *- 773\n",
    "freeze(en3)\n",
    "freeze(de3)\n",
    "ae4 = nn.Sequential(en1, nn.ReLU(), en2, nn.ReLU(), en3, nn.ReLU(), en4, nn.ReLU(), \n",
    "                    de4, nn.ReLU(), de3, nn.ReLU(), de2, nn.ReLU(), de1, nn.Sigmoid())\n",
    "helper.train_autoencoder(ae4, chess_trainloader, chess_testloader, 10, 2)\n",
    "\n",
    "unfreeze(en1)\n",
    "unfreeze(en1)\n",
    "unfreeze(en3)\n",
    "pos2vec = nn.Sequential(en1, nn.ReLU(), en2, nn.ReLU(), en3, nn.ReLU(), en4, nn.ReLU())"
   ]
  },
  {
   "cell_type": "code",
   "execution_count": 7,
   "id": "d613c796-a6eb-4b94-bbb6-dafc6369a781",
   "metadata": {},
   "outputs": [],
   "source": [
    "class DeepChess(nn.Module):\n",
    "  def __init__(self, pos2vec):\n",
    "    super(DeepChess, self).__init__()\n",
    "    self.pos2vec = pos2vec\n",
    "    self.base = nn.Sequential(nn.Linear(200, 400), nn.ReLU(), nn.BatchNorm1d(400), nn.Dropout(0.3),\n",
    "                              nn.Linear(400, 200), nn.ReLU(), nn.BatchNorm1d(200), nn.Dropout(0.3),\n",
    "                              nn.Linear(200, 100), nn.ReLU(), nn.BatchNorm1d(100), nn.Dropout(0.3),\n",
    "                              nn.Linear(100, 2), nn.Softmax(dim=1))\n",
    "  \n",
    "  def forward(self, input1, input2):\n",
    "    first_board = self.pos2vec(input1)\n",
    "    second_board = self.pos2vec(input2)\n",
    "    concat = torch.cat((first_board, second_board), 1)\n",
    "    return self.base(concat)"
   ]
  },
  {
   "cell_type": "code",
   "execution_count": 8,
   "id": "ab2da95c-086d-4135-a2f7-f7becd8d0ee7",
   "metadata": {},
   "outputs": [
    {
     "data": {
      "text/plain": [
       "DeepChess(\n",
       "  (pos2vec): Sequential(\n",
       "    (0): Linear(in_features=773, out_features=600, bias=True)\n",
       "    (1): ReLU()\n",
       "    (2): Linear(in_features=600, out_features=400, bias=True)\n",
       "    (3): ReLU()\n",
       "    (4): Linear(in_features=400, out_features=200, bias=True)\n",
       "    (5): ReLU()\n",
       "    (6): Linear(in_features=200, out_features=100, bias=True)\n",
       "    (7): ReLU()\n",
       "  )\n",
       "  (base): Sequential(\n",
       "    (0): Linear(in_features=200, out_features=400, bias=True)\n",
       "    (1): ReLU()\n",
       "    (2): BatchNorm1d(400, eps=1e-05, momentum=0.1, affine=True, track_running_stats=True)\n",
       "    (3): Dropout(p=0.5, inplace=False)\n",
       "    (4): Linear(in_features=400, out_features=200, bias=True)\n",
       "    (5): ReLU()\n",
       "    (6): BatchNorm1d(200, eps=1e-05, momentum=0.1, affine=True, track_running_stats=True)\n",
       "    (7): Dropout(p=0.5, inplace=False)\n",
       "    (8): Linear(in_features=200, out_features=100, bias=True)\n",
       "    (9): ReLU()\n",
       "    (10): BatchNorm1d(100, eps=1e-05, momentum=0.1, affine=True, track_running_stats=True)\n",
       "    (11): Dropout(p=0.5, inplace=False)\n",
       "    (12): Linear(in_features=100, out_features=2, bias=True)\n",
       "    (13): Softmax(dim=1)\n",
       "  )\n",
       ")"
      ]
     },
     "execution_count": 8,
     "metadata": {},
     "output_type": "execute_result"
    }
   ],
   "source": [
    "dp = DeepChess(pos2vec)\n",
    "dp"
   ]
  },
  {
   "cell_type": "code",
   "execution_count": 9,
   "id": "370937e3-e14d-4eb0-b37b-90c5dc99ef59",
   "metadata": {
    "tags": []
   },
   "outputs": [
    {
     "name": "stderr",
     "output_type": "stream",
     "text": [
      "Epoch: 0 | Loss: 0.00999060645699501 | Accuracy: 0.8926875: 100%|█████████████| 500/500 [00:32<00:00, 15.36it/s]\n",
      "Loss: 0.3021301329135895 | Accuracy: 0.840875: 100%|██████████████████████████| 125/125 [00:06<00:00, 20.45it/s]\n",
      "Epoch: 1 | Loss: 0.004585872869938612 | Accuracy: 0.999625: 100%|█████████████| 500/500 [00:31<00:00, 16.03it/s]\n",
      "Loss: 0.39275050163269043 | Accuracy: 0.87525: 100%|██████████████████████████| 125/125 [00:07<00:00, 17.83it/s]\n",
      "Epoch: 2 | Loss: 0.001127562951296568 | Accuracy: 0.99996875: 100%|███████████| 500/500 [00:32<00:00, 15.35it/s]\n",
      "Loss: 0.2191186398267746 | Accuracy: 0.888625: 100%|██████████████████████████| 125/125 [00:06<00:00, 18.85it/s]\n",
      "Epoch: 3 | Loss: 0.003983388189226389 | Accuracy: 1.0: 100%|██████████████████| 500/500 [00:31<00:00, 15.63it/s]\n",
      "Loss: 0.15971989929676056 | Accuracy: 0.89825: 100%|██████████████████████████| 125/125 [00:06<00:00, 20.62it/s]\n",
      "Epoch: 4 | Loss: 0.0018299478106200695 | Accuracy: 1.0: 100%|█████████████████| 500/500 [00:31<00:00, 16.04it/s]\n",
      "Loss: 0.43022605776786804 | Accuracy: 0.903: 100%|████████████████████████████| 125/125 [00:06<00:00, 19.84it/s]\n",
      "Epoch: 5 | Loss: 0.00031180790392681956 | Accuracy: 1.0: 100%|████████████████| 500/500 [00:31<00:00, 15.95it/s]\n",
      "Loss: 0.20044168829917908 | Accuracy: 0.901: 100%|████████████████████████████| 125/125 [00:06<00:00, 20.18it/s]\n",
      "Epoch: 6 | Loss: 0.001692090998403728 | Accuracy: 1.0: 100%|██████████████████| 500/500 [00:31<00:00, 16.08it/s]\n",
      "Loss: 0.3893682360649109 | Accuracy: 0.914875: 100%|██████████████████████████| 125/125 [00:06<00:00, 19.84it/s]\n",
      "Epoch: 7 | Loss: 0.0001866387901827693 | Accuracy: 0.9999375: 100%|███████████| 500/500 [00:31<00:00, 15.96it/s]\n",
      "Loss: 0.2667001485824585 | Accuracy: 0.89325: 100%|███████████████████████████| 125/125 [00:05<00:00, 22.65it/s]\n",
      "Epoch: 8 | Loss: 0.0001795532734831795 | Accuracy: 1.0: 100%|█████████████████| 500/500 [00:27<00:00, 18.36it/s]\n",
      "Loss: 0.19278423488140106 | Accuracy: 0.898375: 100%|█████████████████████████| 125/125 [00:05<00:00, 23.10it/s]\n",
      "Epoch: 9 | Loss: 0.0001649138139327988 | Accuracy: 1.0: 100%|█████████████████| 500/500 [00:27<00:00, 18.21it/s]\n",
      "Loss: 0.08553962409496307 | Accuracy: 0.907875: 100%|█████████████████████████| 125/125 [00:05<00:00, 23.35it/s]\n"
     ]
    },
    {
     "data": {
      "text/plain": [
       "[tensor(0.3021, grad_fn=<BinaryCrossEntropyBackward0>),\n",
       " tensor(0.3928, grad_fn=<BinaryCrossEntropyBackward0>),\n",
       " tensor(0.2191, grad_fn=<BinaryCrossEntropyBackward0>),\n",
       " tensor(0.1597, grad_fn=<BinaryCrossEntropyBackward0>),\n",
       " tensor(0.4302, grad_fn=<BinaryCrossEntropyBackward0>),\n",
       " tensor(0.2004, grad_fn=<BinaryCrossEntropyBackward0>),\n",
       " tensor(0.3894, grad_fn=<BinaryCrossEntropyBackward0>),\n",
       " tensor(0.2667, grad_fn=<BinaryCrossEntropyBackward0>),\n",
       " tensor(0.1928, grad_fn=<BinaryCrossEntropyBackward0>),\n",
       " tensor(0.0855, grad_fn=<BinaryCrossEntropyBackward0>)]"
      ]
     },
     "execution_count": 9,
     "metadata": {},
     "output_type": "execute_result"
    }
   ],
   "source": [
    "helper.train_supervise(model=dp, train_data=chess_pair_trainloader, val_data=chess_pair_testloader, epochs=10, patient=2)"
   ]
  },
  {
   "cell_type": "code",
   "execution_count": 12,
   "id": "769cad91-d718-4f18-a5f2-750b94e04af0",
   "metadata": {},
   "outputs": [
    {
     "name": "stdout",
     "output_type": "stream",
     "text": [
      "tensor([1, 0, 1, 0, 0, 1, 1, 0, 1, 0, 0, 0, 0, 0, 0, 0, 1, 1, 1, 0, 1, 0, 1, 0,\n",
      "        1, 0, 1, 1, 0, 0, 0, 1, 0, 0, 0, 0, 1, 0, 0, 1, 1, 0, 1, 0, 1, 1, 0, 1,\n",
      "        1, 0, 1, 0, 0, 0, 1, 1, 1, 1, 1, 1, 0, 0, 1, 0])\n",
      "tensor([1, 0, 1, 0, 0, 1, 1, 1, 1, 0, 0, 0, 0, 0, 1, 0, 1, 1, 1, 0, 1, 0, 1, 0,\n",
      "        1, 1, 1, 0, 0, 0, 0, 1, 0, 0, 0, 0, 1, 0, 0, 1, 1, 0, 1, 0, 1, 1, 0, 0,\n",
      "        1, 1, 1, 0, 0, 0, 1, 1, 1, 1, 1, 1, 0, 0, 1, 0])\n",
      "58 / 64\n"
     ]
    }
   ],
   "source": [
    "i = next(iter(chess_pair_testloader))\n",
    "z = i[2]\n",
    "zz = dp(i[0], i[1])\n",
    "print(torch.argmax(z, 1))\n",
    "#print(zz)\n",
    "print(torch.argmax(zz, 1))\n",
    "# for a in zip(z, zz):\n",
    "#   print(a)      \n",
    "print(sum(1 for x in (torch.argmax(z, 1) == torch.argmax(zz, 1)) if x), \"/\", i[0].shape[0])"
   ]
  },
  {
   "cell_type": "code",
   "execution_count": 13,
   "id": "8e83fa21-f01b-42c1-a865-a3d89e04921a",
   "metadata": {},
   "outputs": [],
   "source": [
    "torch.save(dp.state_dict(), \"model/save/deepchess.pth\")\n",
    "torch.save(pos2vec.state_dict(), \"model/save/pos2vec.pth\")"
   ]
  },
  {
   "cell_type": "code",
   "execution_count": null,
   "id": "1993c1ec-f653-4c4d-9516-9fa3ec77f75b",
   "metadata": {},
   "outputs": [],
   "source": []
  }
 ],
 "metadata": {
  "kernelspec": {
   "display_name": "Python [conda env:root] *",
   "language": "python",
   "name": "conda-root-py"
  },
  "language_info": {
   "codemirror_mode": {
    "name": "ipython",
    "version": 3
   },
   "file_extension": ".py",
   "mimetype": "text/x-python",
   "name": "python",
   "nbconvert_exporter": "python",
   "pygments_lexer": "ipython3",
   "version": "3.8.5"
  }
 },
 "nbformat": 4,
 "nbformat_minor": 5
}
