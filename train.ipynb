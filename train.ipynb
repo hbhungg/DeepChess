{
 "cells": [
  {
   "cell_type": "code",
   "execution_count": 1,
   "id": "eae41a0a-3f28-4b3c-9322-4c833fb15e0f",
   "metadata": {
    "tags": []
   },
   "outputs": [],
   "source": [
    "%reload_ext autoreload\n",
    "%autoreload 2\n",
    "import chess.pgn\n",
    "import numpy as np\n",
    "from tqdm import tqdm\n",
    "import matplotlib.pyplot as plt\n",
    "\n",
    "from chess_dataset import ChessDataset, ChessPairDataset\n",
    "import helper\n",
    "\n",
    "import torch\n",
    "from torch.utils.data import DataLoader\n",
    "import torch.nn as nn\n",
    "import torch.nn.functional as F\n",
    "import torchvision"
   ]
  },
  {
   "cell_type": "code",
   "execution_count": 2,
   "id": "a6cf9d01-da66-4ca8-8700-4db9a2ef3ee4",
   "metadata": {},
   "outputs": [],
   "source": [
    "train_chess_pair_dataset = ChessPairDataset(\"dataset/npy/\")\n",
    "test_chess_pair_dataset = ChessPairDataset(\"dataset/npy/\", train=False)\n",
    "train_chess_dataset = ChessDataset(\"dataset/npy/\")\n",
    "test_chess_dataset = ChessDataset(\"dataset/npy/\", train=False)"
   ]
  },
  {
   "cell_type": "code",
   "execution_count": 3,
   "id": "a6a07b43-da18-4eab-9700-3675031bcf88",
   "metadata": {},
   "outputs": [
    {
     "data": {
      "text/plain": [
       "(32000, 8000)"
      ]
     },
     "execution_count": 3,
     "metadata": {},
     "output_type": "execute_result"
    }
   ],
   "source": [
    "len(train_chess_pair_dataset), len(test_chess_pair_dataset)"
   ]
  },
  {
   "cell_type": "code",
   "execution_count": 4,
   "id": "c015d2c2-3c20-449a-90b8-e1e83d051d0a",
   "metadata": {},
   "outputs": [
    {
     "data": {
      "text/plain": [
       "(2739, 686)"
      ]
     },
     "execution_count": 4,
     "metadata": {},
     "output_type": "execute_result"
    }
   ],
   "source": [
    "len(train_chess_dataset), len(test_chess_dataset)"
   ]
  },
  {
   "cell_type": "code",
   "execution_count": 5,
   "id": "ec053088-e8f0-4822-b649-119b29243d2b",
   "metadata": {},
   "outputs": [],
   "source": [
    "chess_trainloader = DataLoader(train_chess_dataset, batch_size=64, shuffle=True)\n",
    "chess_testloader = DataLoader(test_chess_dataset, batch_size=64, shuffle=False)\n",
    "chess_pair_trainloader = DataLoader(train_chess_pair_dataset, batch_size=64, shuffle=True)\n",
    "chess_pair_testloader = DataLoader(test_chess_pair_dataset, batch_size=64, shuffle=True)"
   ]
  },
  {
   "cell_type": "code",
   "execution_count": null,
   "id": "bbe393f0-754f-4aff-9885-c1fd7cfbe9d3",
   "metadata": {
    "tags": []
   },
   "outputs": [
    {
     "name": "stderr",
     "output_type": "stream",
     "text": [
      "Epoch: 0 | Loss: 0.1984473019838333: 100%|██████████████████████████████████████| 43/43 [00:01<00:00, 34.26it/s]\n",
      "Val loss: 0.19835510849952698: 100%|████████████████████████████████████████████| 11/11 [00:00<00:00, 45.34it/s]\n",
      "Epoch: 1 | Loss: 0.09149955213069916: 100%|█████████████████████████████████████| 43/43 [00:01<00:00, 33.66it/s]\n",
      "Val loss: 0.08792492747306824: 100%|████████████████████████████████████████████| 11/11 [00:00<00:00, 44.47it/s]\n",
      "Epoch: 2 | Loss: 0.055318351835012436: 100%|████████████████████████████████████| 43/43 [00:01<00:00, 34.55it/s]\n",
      "Val loss: 0.04623376578092575: 100%|████████████████████████████████████████████| 11/11 [00:00<00:00, 44.49it/s]\n",
      "Epoch: 3 | Loss: 0.039942268282175064: 100%|████████████████████████████████████| 43/43 [00:01<00:00, 35.75it/s]\n",
      "Val loss: 0.0352659709751606: 100%|█████████████████████████████████████████████| 11/11 [00:00<00:00, 44.29it/s]\n",
      "Epoch: 4 | Loss: 0.034827958792448044: 100%|████████████████████████████████████| 43/43 [00:01<00:00, 34.00it/s]\n",
      "Val loss: 0.030674174427986145: 100%|███████████████████████████████████████████| 11/11 [00:00<00:00, 44.36it/s]\n",
      "Epoch: 5 | Loss: 0.03414245694875717: 100%|█████████████████████████████████████| 43/43 [00:01<00:00, 34.53it/s]\n",
      "Val loss: 0.03447459265589714:  45%|████████████████████▍                        | 5/11 [00:00<00:00, 45.97it/s]"
     ]
    }
   ],
   "source": [
    "def freeze(layer):\n",
    "  layer.weight.requires_grad = False\n",
    "  layer.bias.requires_grad = False\n",
    "\n",
    "def unfreeze(layer):\n",
    "  layer.weight.requires_grad = True\n",
    "  layer.bias.requires_grad = True\n",
    "  \n",
    "# Dense encoding layers\n",
    "en1 = nn.Linear(773, 600)\n",
    "en2 = nn.Linear(600, 400)\n",
    "en3 = nn.Linear(400, 200)\n",
    "en4 = nn.Linear(200, 100)\n",
    "\n",
    "# Dense decoding layers\n",
    "de1 = nn.Linear(600, 773)\n",
    "de2 = nn.Linear(400, 600)\n",
    "de3 = nn.Linear(200, 400)\n",
    "de4 = nn.Linear(100, 200)\n",
    "\n",
    "# Autoencoder train\n",
    "# 773 - 600 - 773\n",
    "ae1 = nn.Sequential(en1, nn.ReLU(), \n",
    "                    de1, nn.Sigmoid())\n",
    "helper.train_autoencoder(ae1, chess_trainloader, chess_testloader, 10, 3)\n",
    "\n",
    "# * means freeze\n",
    "# 773 *- 600 - 400 - 600 *- 773\n",
    "freeze(en1)\n",
    "freeze(de1)\n",
    "ae2 = nn.Sequential(en1, nn.ReLU(), en2, nn.ReLU(), \n",
    "                    de2, nn.ReLU(), de1, nn.Sigmoid())\n",
    "helper.train_autoencoder(ae2, chess_trainloader, chess_testloader, 10, 3)\n",
    "\n",
    "# 773 *- 600 *- 400 - 200 - 400 *- 600 *- 773\n",
    "freeze(en2)\n",
    "freeze(de2)\n",
    "ae3 = nn.Sequential(en1, nn.ReLU(), en2, nn.ReLU(), en3, nn.ReLU(), \n",
    "                    de3, nn.ReLU(), de2, nn.ReLU(), de1, nn.Sigmoid())\n",
    "helper.train_autoencoder(ae3, chess_trainloader, chess_testloader, 10, 3)\n",
    "\n",
    "# 773 *- 600 *- 400 *- 200 - 100 - 200 *- 400 *- 600 *- 773\n",
    "freeze(en3)\n",
    "freeze(de3)\n",
    "ae4 = nn.Sequential(en1, nn.ReLU(), en2, nn.ReLU(), en3, nn.ReLU(), en4, nn.ReLU(), \n",
    "                    de4, nn.ReLU(), de3, nn.ReLU(), de2, nn.ReLU(), de1, nn.Sigmoid())\n",
    "helper.train_autoencoder(ae4, chess_trainloader, chess_testloader, 10, 3)\n",
    "\n",
    "unfreeze(en1)\n",
    "unfreeze(en1)\n",
    "unfreeze(en3)\n",
    "pos2vec = nn.Sequential(en1, nn.ReLU(), en2, nn.ReLU(), en3, nn.ReLU(), en4, nn.ReLU())"
   ]
  },
  {
   "cell_type": "code",
   "execution_count": null,
   "id": "d613c796-a6eb-4b94-bbb6-dafc6369a781",
   "metadata": {},
   "outputs": [],
   "source": [
    "class DeepChess(nn.Module):\n",
    "  def __init__(self):\n",
    "    super(DeepChess, self).__init__()\n",
    "    self.pos2vec = pos2vec\n",
    "#     self.pos2vec1 = nn.Sequential(nn.Linear(773, 600), nn.ReLU(), nn.BatchNorm1d(600), nn.Dropout(0.5),\n",
    "#                                  nn.Linear(600, 400), nn.ReLU(), nn.BatchNorm1d(400), nn.Dropout(0.5),\n",
    "#                                  nn.Linear(400, 200), nn.ReLU(), nn.BatchNorm1d(200), nn.Dropout(0.5),\n",
    "#                                  nn.Linear(200, 100), nn.ReLU(), nn.BatchNorm1d(100), nn.Dropout(0.5))\n",
    "    \n",
    "#     self.pos2vec2 = nn.Sequential(nn.Linear(773, 600), nn.ReLU(), nn.BatchNorm1d(600), nn.Dropout(0.5),\n",
    "#                                  nn.Linear(600, 400), nn.ReLU(), nn.BatchNorm1d(400), nn.Dropout(0.5),\n",
    "#                                  nn.Linear(400, 200), nn.ReLU(), nn.BatchNorm1d(200), nn.Dropout(0.5),\n",
    "#                                  nn.Linear(200, 100), nn.ReLU(), nn.BatchNorm1d(100), nn.Dropout(0.5))\n",
    "    \n",
    "    self.base = nn.Sequential(nn.Linear(200, 400), nn.ReLU(), nn.BatchNorm1d(400), nn.Dropout(0.5),\n",
    "                              nn.Linear(400, 200), nn.ReLU(), nn.BatchNorm1d(200), nn.Dropout(0.5),\n",
    "                              nn.Linear(200, 100), nn.ReLU(), nn.BatchNorm1d(100), nn.Dropout(0.5),\n",
    "                              nn.Linear(100, 2), nn.Softmax(dim=1))\n",
    "  \n",
    "  def forward(self, input1, input2):\n",
    "    first_board = self.pos2vec(input1)\n",
    "    second_board = self.pos2vec(input2)\n",
    "    concat = torch.cat((first_board, second_board), 1)\n",
    "    return self.base(concat)"
   ]
  },
  {
   "cell_type": "code",
   "execution_count": null,
   "id": "ab2da95c-086d-4135-a2f7-f7becd8d0ee7",
   "metadata": {},
   "outputs": [],
   "source": [
    "dp = DeepChess()\n",
    "dp"
   ]
  },
  {
   "cell_type": "code",
   "execution_count": null,
   "id": "370937e3-e14d-4eb0-b37b-90c5dc99ef59",
   "metadata": {
    "tags": []
   },
   "outputs": [],
   "source": [
    "helper.train_supervise(model=dp, train_data=chess_pair_trainloader, val_data=chess_pair_testloader, epochs=10, patient=2)"
   ]
  },
  {
   "cell_type": "code",
   "execution_count": null,
   "id": "769cad91-d718-4f18-a5f2-750b94e04af0",
   "metadata": {},
   "outputs": [],
   "source": [
    "i = next(iter(chess_pair_testloader))\n",
    "z = i[2]\n",
    "zz = dp(i[0], i[1])\n",
    "print(torch.argmax(z, 1))\n",
    "#print(zz)\n",
    "print(torch.argmax(zz, 1))\n",
    "# for a in zip(z, zz):\n",
    "#   print(a)      \n",
    "print(sum(1 for x in (torch.argmax(z, 1) == torch.argmax(zz, 1)) if x), \"/\", i[0].shape[0])"
   ]
  },
  {
   "cell_type": "code",
   "execution_count": null,
   "id": "8e83fa21-f01b-42c1-a865-a3d89e04921a",
   "metadata": {},
   "outputs": [],
   "source": [
    "torch.save(dp.state_dict(), \"model/save/deepchess.pth\")\n",
    "torch.save(pos2vec.state_dict(), \"model/save/pos2vec.pth\")"
   ]
  },
  {
   "cell_type": "code",
   "execution_count": null,
   "id": "1993c1ec-f653-4c4d-9516-9fa3ec77f75b",
   "metadata": {},
   "outputs": [],
   "source": []
  }
 ],
 "metadata": {
  "kernelspec": {
   "display_name": "Python [conda env:root] *",
   "language": "python",
   "name": "conda-root-py"
  },
  "language_info": {
   "codemirror_mode": {
    "name": "ipython",
    "version": 3
   },
   "file_extension": ".py",
   "mimetype": "text/x-python",
   "name": "python",
   "nbconvert_exporter": "python",
   "pygments_lexer": "ipython3",
   "version": "3.8.5"
  }
 },
 "nbformat": 4,
 "nbformat_minor": 5
}
